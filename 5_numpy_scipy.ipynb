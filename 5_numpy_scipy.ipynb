{
 "cells": [
  {
   "attachments": {},
   "cell_type": "markdown",
   "id": "139d80e4",
   "metadata": {
    "pycharm": {
     "name": "#%% md\n"
    }
   },
   "source": [
    "Fill in your github username and idm credentials below:"
   ]
  },
  {
   "cell_type": "code",
   "execution_count": null,
   "id": "9ffac4d4",
   "metadata": {
    "pycharm": {
     "is_executing": true,
     "name": "#%%\n"
    },
    "vscode": {
     "languageId": "python"
    }
   },
   "outputs": [],
   "source": [
    "github_username = \"\"\n",
    "idm_credentials = \"\""
   ]
  },
  {
   "cell_type": "markdown",
   "id": "452dd7af",
   "metadata": {
    "pycharm": {
     "name": "#%% md\n"
    }
   },
   "source": [
    "---"
   ]
  },
  {
   "cell_type": "markdown",
   "id": "755c6140-79ab-496f-9e79-71972edca5bc",
   "metadata": {
    "pycharm": {
     "name": "#%% md\n"
    },
    "tags": []
   },
   "source": [
    "# **Applied Data Science in Medicine & Psychology - Assignment 5**\n",
    "## Numpy and Scipy\n",
    "---\n",
    "**Deadline: 11.06.2024, 23:59**\n",
    "### **General Setup and Submission**\n",
    "1. Save an editable copy of this notebook to your Google Drive ``File`` $\\rightarrow$ ``Save a copy in Drive`` and remove the automatically appended \"Copy of\" text. **Do not change the original file name**.\n",
    "2. Work on the assignment in the *copied* version of the notebook. Make sure that you **replace** all parts of the tasks indicated with *YOUR CODE HERE* and **raise NotImplementedError()** (otherwise this causes an error in your implementation) or *YOUR ANSWER HERE* with your solution.\n",
    "3. If you take a break during the implementation, you can save the current status of your work in your repository following the submission instructions below. When you continue working on the assignment, do this in the version of the notebook that you saved in your Google Drive (access from your Google Colab account) or your repository.\n",
    "4. After finishing the assignment submit your assignment as follows:\n",
    "    * Check that everything runs as expected. To do that select in the menubar ``Runtime`` $\\rightarrow$ ``Restart and run all``. This will clear all your local variables and runs your notebook from the beginning.\n",
    "    * Save your notebook, click ``File`` $\\rightarrow$ ``Save``\n",
    "    * Click ``File`` $\\rightarrow$ ``Save a copy in GitHub``\n",
    "    * Select ``digikolleg-data-science-psychology/5-numpy-scipy-<username>`` from the repository drop-down menu\n",
    "    * Type ``5_numpy_scipy.ipynb`` into the file path text box\n",
    "    * Optionally, you may enter a description into the \"Commit message\" text box (like: \"solved task 1\" or \"ready for grading\")\n",
    "    * Make sure that the \"Include a link to Colaboratory\" box is checked\n",
    "    * Press \"Ok\"\n",
    "    * A new tab or window should open up, displaying your submitted notebook within your GitHub repository\n",
    "\n",
    "Before the assignment deadline, you can re-submit your assignment as often as you would like. This will update your assignment file in your assignment's repository."
   ]
  },
  {
   "cell_type": "markdown",
   "id": "2fe61c2c-a030-4c02-8214-7db7d1c10df5",
   "metadata": {
    "pycharm": {
     "name": "#%% md\n"
    }
   },
   "source": [
    "### **Assignment Description**\n",
    "In this assignment, we take a first glance at the ``NumPy`` and ``SciPy`` packages, two important packages with a huge range of functionalities. While ``NumPy`` focuses on efficient array manipulation and mathematical operations, ``SciPy`` builds upon NumPy to provide a broader range of scientific and numerical computing tools and algorithms.\n",
    "\n",
    "#### **Assignment Goals**\n",
    "You are going to learn the following things in this assignment:\n",
    "1. how to handle arrays\n",
    "2. how to access data in arrays based on conditions\n",
    "3. how to use mathematical functions on arrays\n",
    "4. how to apply functions to your data\n",
    "\n",
    "#### **Assignment Point Value**\n",
    "This assignment is worth a total (up to) **10** points. If your code passes all of the manual and automatic tests you will receive full credit."
   ]
  },
  {
   "cell_type": "markdown",
   "id": "89d2a637-e274-43a8-a88a-23bb204e96db",
   "metadata": {
    "pycharm": {
     "name": "#%% md\n"
    }
   },
   "source": [
    "### **Tasks**\n",
    "Make sure that you now work on your *copied* version of this assignment's notebook."
   ]
  },
  {
   "cell_type": "markdown",
   "id": "42e90337-1130-4412-b037-d1267bc45101",
   "metadata": {
    "pycharm": {
     "name": "#%% md\n"
    }
   },
   "source": [
    "#### 0. Imports and Setup\n",
    "Please **run** the cell below to import the libraries needed for this assignment."
   ]
  },
  {
   "cell_type": "code",
   "execution_count": null,
   "id": "8acea142",
   "metadata": {
    "jupyter": {
     "outputs_hidden": false
    },
    "pycharm": {
     "name": "#%%\n"
    }
   },
   "outputs": [],
   "source": [
    "import matplotlib.pyplot as plt\n",
    "import numpy as np\n",
    "import pandas as pd\n",
    "from scipy import signal\n",
    "from scipy.datasets import electrocardiogram"
   ]
  },
  {
   "cell_type": "markdown",
   "id": "ea05ad22",
   "metadata": {
    "pycharm": {
     "name": "#%% md\n"
    }
   },
   "source": [
    "#### 1. Perceived Stress Scale\n",
    "In this task, we compute the Perceived Stress Scale (PSS) for a real-world dataset with 38 participants:\n",
    "* The PSS is a widely used self-report questionnaire with adequate reliability and validity, asking about how stressful a person has found his/her life during the previous month. \n",
    "* The participant is asked to rate questions like \"In the last month, how often have you been upset because of something that happened unexpectedly?\" from 0 (never) to 4 (very often). \n",
    "* Six of the questions are formulated negatively (like the previous one) and summarized in the subscale *Perceived Helplessness*: The other four belong to the subscale *Perceived Self-Efficacy* and are formulated positively. \n",
    "* Therefore, the scores from *Perceived Self-Efficacy* have to be inverted to compute the Total Score from both subscales. \n",
    "* The Total Score can range between 0 and 40, with higher scores indicating higher perceived stress.\n",
    "* For this task, we use a dataset which is provided by the package BioPsyKit (Richer et al., (2021). BioPsyKit: A Python package for the analysis of biopsychological data. Journal of Open Source Software, 6(66), 3702, https://doi.org/10.21105/joss.03702)."
   ]
  },
  {
   "cell_type": "code",
   "execution_count": null,
   "id": "0354078e",
   "metadata": {
    "jupyter": {
     "outputs_hidden": false
    },
    "pycharm": {
     "name": "#%%\n"
    }
   },
   "outputs": [],
   "source": [
    "# run the cell to load the data\n",
    "url = 'https://raw.githubusercontent.com/mad-lab-fau/BioPsyKit/main/example_data/questionnaire_sample.csv'\n",
    "data = pd.read_csv(url, index_col=0)\n",
    "data = data.iloc[:, :10]\n",
    "data.head()"
   ]
  },
  {
   "cell_type": "code",
   "execution_count": null,
   "id": "a34216ac",
   "metadata": {
    "jupyter": {
     "outputs_hidden": false
    },
    "pycharm": {
     "name": "#%%\n"
    }
   },
   "outputs": [],
   "source": [
    "# run cell to convert data from pandas dataframe to numpy array\n",
    "data_pss = data.to_numpy()\n",
    "data_pss[:5, :] # just for visualization"
   ]
  },
  {
   "cell_type": "markdown",
   "id": "84e51df1-9eee-481a-8826-d0f52ba9f7ca",
   "metadata": {
    "jupyter": {
     "outputs_hidden": false
    },
    "pycharm": {
     "name": "#%%\n"
    }
   },
   "source": [
    "##### 1.1 Create the function ``check_score_range`` that takes the parameters ``data`` and ``score_range`` and checks whether all of the data are within the given range:\n",
    "* ``data``: numpy array containing the ten individual PSS scores of all participants\n",
    "* ``score_range``: list in the format [min_value, max_value] (inclusive endpoints)\n",
    "* The function should return ``True`` if all values are within the range, otherwise ``False``"
   ]
  },
  {
   "cell_type": "code",
   "execution_count": null,
   "id": "b2885f90",
   "metadata": {
    "deletable": false,
    "jupyter": {
     "outputs_hidden": false
    },
    "nbgrader": {
     "cell_type": "code",
     "checksum": "5f65db61b3f3f0f949d51ed9043aaa45",
     "grade": false,
     "grade_id": "check_score_range",
     "locked": false,
     "schema_version": 3,
     "solution": true,
     "task": false
    },
    "pycharm": {
     "name": "#%%\n"
    },
    "tags": []
   },
   "outputs": [],
   "source": [
    "# YOUR CODE HERE\n",
    "raise NotImplementedError()"
   ]
  },
  {
   "cell_type": "code",
   "execution_count": null,
   "id": "fa07e49b",
   "metadata": {
    "deletable": false,
    "editable": false,
    "jupyter": {
     "outputs_hidden": false
    },
    "nbgrader": {
     "cell_type": "code",
     "checksum": "52f9759dda75071e7f6650d216eb0615",
     "grade": true,
     "grade_id": "check_score_range_test",
     "locked": true,
     "points": 1,
     "schema_version": 3,
     "solution": false,
     "task": false
    },
    "pycharm": {
     "name": "#%%\n"
    },
    "tags": []
   },
   "outputs": [],
   "source": [
    "# run tests to check your implementation\n",
    "np.random.seed(0)\n",
    "data_test = np.random.randint(low=0, high=5, size=[5, 10])\n",
    "assert check_score_range(data_test, [0, 4]), \"Ensure that you handled your endpoints correctly\"\n",
    "assert check_score_range(data_test, [0, 3]) == False, \"Ensure that you handled your endpoints correctly\""
   ]
  },
  {
   "cell_type": "markdown",
   "id": "2c574fb4",
   "metadata": {
    "pycharm": {
     "name": "#%% md\n"
    }
   },
   "source": [
    "##### 1.2 Create the function ``invert`` that takes the parameters ``data`` and ``score_range`` and inverts the scores:\n",
    "* ``data``: numpy array containing PSS score columns of all participants that need to be inverted\n",
    "* ``score_range``: list in the format [min_value, max_value] (inclusive endpoints)\n",
    "* The function should return an array with the inverted scores from ``data`` in the given range ``score_range``\n",
    "\n",
    "Example: If the input is ``[1, 3, 4, 2]`` and ``score_range`` is ``[0, 4]``, the function should return ``[3, 1, 0, 2]``."
   ]
  },
  {
   "cell_type": "code",
   "execution_count": null,
   "id": "8eabb2ac",
   "metadata": {
    "deletable": false,
    "jupyter": {
     "outputs_hidden": false
    },
    "nbgrader": {
     "cell_type": "code",
     "checksum": "0c62be67f631a99e06e1a25ee8a35d37",
     "grade": false,
     "grade_id": "invert",
     "locked": false,
     "schema_version": 3,
     "solution": true,
     "task": false
    },
    "pycharm": {
     "name": "#%%\n"
    },
    "tags": []
   },
   "outputs": [],
   "source": [
    "# YOUR CODE HERE\n",
    "raise NotImplementedError()"
   ]
  },
  {
   "cell_type": "code",
   "execution_count": null,
   "id": "9b07dc76",
   "metadata": {
    "deletable": false,
    "editable": false,
    "jupyter": {
     "outputs_hidden": false
    },
    "nbgrader": {
     "cell_type": "code",
     "checksum": "e5f29f89adf6fe564d379d7afb076e9d",
     "grade": true,
     "grade_id": "invert_test",
     "locked": true,
     "points": 1,
     "schema_version": 3,
     "solution": false,
     "task": false
    },
    "pycharm": {
     "name": "#%%\n"
    },
    "tags": []
   },
   "outputs": [],
   "source": [
    "# run test to check your implementation\n",
    "data_test = np.array([[1, 3, 4, 1], [2, 4, 1, 1]])\n",
    "assert np.array_equal(invert(data_test, [0, 5]), np.array([[4, 2, 1, 4], [3, 1, 4, 4]])), \"Check your inversion process\""
   ]
  },
  {
   "cell_type": "markdown",
   "id": "4dcf0746-e617-4316-b033-c9c81eb9ee3e",
   "metadata": {
    "jupyter": {
     "outputs_hidden": false
    },
    "pycharm": {
     "name": "#%%\n"
    }
   },
   "source": [
    "##### 1.3 Create the function ``calc_score`` that takes the parameter ``data`` and calculates the row-wise sum (the score of one participant is the sum over the individual questions scores):\n",
    "* ``data``: numpy array containing PSS scores of all participants that need to be summarized\n",
    "* The function should return a column vector with the row-wise summed-up scores\n",
    "\n",
    "Example: If the input is ``[[1, 3, 4, 2], [2, 2, 4, 1]]``, the function should return ``[[10], [9]]``."
   ]
  },
  {
   "cell_type": "code",
   "execution_count": null,
   "id": "1f42f1c4",
   "metadata": {
    "deletable": false,
    "jupyter": {
     "outputs_hidden": false
    },
    "nbgrader": {
     "cell_type": "code",
     "checksum": "320ecb373d601f84c6f22d5d0c39bc6f",
     "grade": false,
     "grade_id": "calc_score",
     "locked": false,
     "schema_version": 3,
     "solution": true,
     "task": false
    },
    "pycharm": {
     "name": "#%%\n"
    },
    "tags": []
   },
   "outputs": [],
   "source": [
    "# YOUR CODE HERE\n",
    "raise NotImplementedError()"
   ]
  },
  {
   "cell_type": "code",
   "execution_count": null,
   "id": "dc1edd56",
   "metadata": {
    "deletable": false,
    "editable": false,
    "jupyter": {
     "outputs_hidden": false
    },
    "nbgrader": {
     "cell_type": "code",
     "checksum": "a6b6c90a444bdc1ac3af7781c006002f",
     "grade": true,
     "grade_id": "calc_score_test",
     "locked": true,
     "points": 1,
     "schema_version": 3,
     "solution": false,
     "task": false
    },
    "pycharm": {
     "name": "#%%\n"
    },
    "tags": []
   },
   "outputs": [],
   "source": [
    "# run test to check your implementation\n",
    "assert np.shape(calc_score(np.array([[1, 3], [2, 4]])))[0] == 2, \"Check if you return a row or column vector\"\n",
    "assert np.array_equal(calc_score(np.array([[1, 3], [2, 4]])), np.array([[4], [6]])), \"Check if you perform the summation row-wise\""
   ]
  },
  {
   "cell_type": "markdown",
   "id": "02bf2c35-dae9-48ea-8793-d36bf99ae08e",
   "metadata": {
    "jupyter": {
     "outputs_hidden": false
    },
    "pycharm": {
     "name": "#%%\n"
    }
   },
   "source": [
    "##### 1.4 Create a function called ``calc_pss`` that takes ``data``, ``score_range``, and ``subscales`` as parameters and calculates the scores for *Perceived Helplessness*, *Perceived Self-Efficacy*, and the Total Score for all the participants.\n",
    "* ``data``: numpy array containing the ten individual PSS scores of all participants\n",
    "* ``score_range``: list in the format [min_value, max_value] (inclusive endpoints, given in cell below)\n",
    "* ``subscales``: dictionary containing the lists of column indices belonging to *Helplessness* and *Self-Efficacy* (given in cell below)\n",
    "* Check if all the values of ``data`` are within ``score_range`` using ``check_score_range``. If yes. continue, otherwise return ``None`` \n",
    "* Calculate the scores for *Perceived Helplessness* and *Perceived Self-Efficacy* separately using ``calc_score`` (Do not forget to ``invert`` the *Self-Efficacy* scores first)\n",
    "* Calculate the Total Score from both scores using ``calc_score``. \n",
    "* The function should return an array with three columns (0: *Perceived Helplessness* score, 1: *Perceived Self-Efficacy* score, 2: Total Score)\n",
    "\n",
    "**Hint**: Check out if [numpy.concatenate](https://numpy.org/doc/stable/reference/generated/numpy.concatenate.html) can help you with your implementation."
   ]
  },
  {
   "cell_type": "code",
   "execution_count": null,
   "id": "9ec54831",
   "metadata": {
    "deletable": false,
    "jupyter": {
     "outputs_hidden": false
    },
    "nbgrader": {
     "cell_type": "code",
     "checksum": "b51c2c425872c9586dc48c50a79b2ebb",
     "grade": false,
     "grade_id": "calc_pss",
     "locked": false,
     "schema_version": 3,
     "solution": true,
     "task": false
    },
    "pycharm": {
     "name": "#%%\n"
    },
    "tags": []
   },
   "outputs": [],
   "source": [
    "score_range = [0, 4]\n",
    "subscales = {\"Helpless\": [0, 1, 2, 5, 8, 9], \"SelfEff\": [3, 4, 6, 7]}\n",
    "\n",
    "# YOUR CODE HERE\n",
    "raise NotImplementedError()"
   ]
  },
  {
   "cell_type": "code",
   "execution_count": null,
   "id": "dfb22188",
   "metadata": {
    "deletable": false,
    "editable": false,
    "jupyter": {
     "outputs_hidden": false
    },
    "nbgrader": {
     "cell_type": "code",
     "checksum": "17c1b241b19f0410b8296693fff20e18",
     "grade": true,
     "grade_id": "calc_pss_test",
     "locked": true,
     "points": 2,
     "schema_version": 3,
     "solution": false,
     "task": false
    },
    "pycharm": {
     "name": "#%%\n"
    },
    "tags": []
   },
   "outputs": [],
   "source": [
    "# run tests to check your implementation\n",
    "np.random.seed(0)\n",
    "data_test = np.random.randint(low=0, high=5, size=(2, 10))\n",
    "assert np.shape(calc_pss(data_test, score_range, subscales))[1] == 3, \"Ensure that you return all three calculated parameters\"\n",
    "assert calc_pss(data_test, [0, 3], None) == None, \"Ensure that you handled the score range check correctly\"\n",
    "assert np.array_equal(calc_pss(data_test, score_range, subscales), np.array([[12, 5, 17], [12, 14, 26]])), \"Check your parameter calculation\""
   ]
  },
  {
   "cell_type": "markdown",
   "id": "f71e5870",
   "metadata": {
    "pycharm": {
     "name": "#%% md\n"
    }
   },
   "source": [
    "##### 1.5 Create a function ``interprete_pss`` that takes ``total_score`` as parameter and identifies the level of stress:\n",
    "* ``total_score``: numpy array containing the Total PSS Scores (row-vector)\n",
    "* The function should return a row vector indicating the stress level (as integer: 1, 2, or 3) for every participant based on ``total_score``\n",
    "    * stress level 1: Total Score 0 - 13 -> low stress\n",
    "    * stress level 2: Total Score 14 - 26 -> moderate stress\n",
    "    * stress level 3: Total Score 27 - 40 -> high stress\n",
    "\n",
    "**Hint**: Check out if boolean masks can help you here. "
   ]
  },
  {
   "cell_type": "code",
   "execution_count": null,
   "id": "adffbbd0",
   "metadata": {
    "deletable": false,
    "jupyter": {
     "outputs_hidden": false
    },
    "nbgrader": {
     "cell_type": "code",
     "checksum": "6f717c213ad0761725250a56b46ba31a",
     "grade": false,
     "grade_id": "interprete_pss",
     "locked": false,
     "schema_version": 3,
     "solution": true,
     "task": false
    },
    "pycharm": {
     "name": "#%%\n"
    },
    "tags": []
   },
   "outputs": [],
   "source": [
    "# YOUR CODE HERE\n",
    "raise NotImplementedError()"
   ]
  },
  {
   "cell_type": "code",
   "execution_count": null,
   "id": "531910b7",
   "metadata": {
    "deletable": false,
    "editable": false,
    "jupyter": {
     "outputs_hidden": false
    },
    "nbgrader": {
     "cell_type": "code",
     "checksum": "578b19765185a07b962ef800a31fa732",
     "grade": true,
     "grade_id": "interprete_pss_test",
     "locked": true,
     "points": 1,
     "schema_version": 3,
     "solution": false,
     "task": false
    },
    "pycharm": {
     "name": "#%%\n"
    },
    "tags": []
   },
   "outputs": [],
   "source": [
    "# run test to check your implementation\n",
    "assert np.array_equal(interprete_pss(np.array([0, 13, 14, 26, 27, 40])), np.array([1, 1, 2, 2, 3, 3])), \"Ensure that you set the stress levels correctly\""
   ]
  },
  {
   "cell_type": "markdown",
   "id": "02dbc385",
   "metadata": {
    "pycharm": {
     "name": "#%% md\n"
    }
   },
   "source": [
    "##### 1.6 Run the cell below to visualize your results for this PSS dataset:"
   ]
  },
  {
   "cell_type": "code",
   "execution_count": null,
   "id": "0bf69b21",
   "metadata": {
    "jupyter": {
     "outputs_hidden": false
    },
    "pycharm": {
     "name": "#%%\n"
    }
   },
   "outputs": [],
   "source": [
    "score_range = [0, 4]\n",
    "subscales = {\"Helpless\": [0, 1, 2, 5, 8, 9], \"SelfEff\": [3, 4, 6, 7]}\n",
    "scores = calc_pss(data_pss, score_range, subscales)\n",
    "stress_levels = interprete_pss(scores[:, 2])\n",
    "score_counts = np.bincount(stress_levels)\n",
    "\n",
    "fig, axs = plt.subplots(ncols=2, figsize=(8, 4))\n",
    "axs[0].scatter(scores[stress_levels==1, 0], scores[stress_levels==1, 1], label=\"low stress\", color='g')\n",
    "axs[0].scatter(scores[stress_levels==2, 0], scores[stress_levels==2, 1], label=\"moderate stress\", color='y')\n",
    "axs[0].scatter(scores[stress_levels==3, 0], scores[stress_levels==3, 1], label=\"high stress\", color='r')\n",
    "axs[0].legend()\n",
    "axs[0].set_xlabel(\"Perceived Helplessness\")\n",
    "axs[0].set_ylabel(\"Perceived Self-Efficacy\")\n",
    "axs[1].bar([1, 2, 3], score_counts[1:])\n",
    "axs[1].set_xticks([1, 2, 3])\n",
    "axs[1].set_xticklabels([\"low stress\", \"moderate stress\", \"high stress\"])\n",
    "axs[1].set_yticks([5, 10, 15])\n",
    "axs[1].set_ylabel(\"number of participants\")\n",
    "fig.tight_layout()"
   ]
  },
  {
   "cell_type": "markdown",
   "id": "dccc4551-1443-4835-a2b4-41e68eef0cd5",
   "metadata": {
    "jupyter": {
     "outputs_hidden": false
    },
    "pycharm": {
     "name": "#%%\n"
    }
   },
   "source": [
    "#### 2. Electrocardiogram (ECG) Analysis\n",
    "In this task, we will implement an ECG analysis that removes low and high-frequency artifacts, identifies ECG R peaks, and calculates the heart rate in beats per minute (bpm). We use functions provided by ``NumPy`` and ``SciPy`` (linked in the respective sub-task) and a part of the ECG signal provided by ``SciPy`` (``ecg``), which has a sampling frequency ``fs`` of 360 Hz."
   ]
  },
  {
   "cell_type": "code",
   "execution_count": null,
   "id": "4533d75b-41fa-4e45-aa16-41e725425006",
   "metadata": {
    "pycharm": {
     "name": "#%%\n"
    }
   },
   "outputs": [],
   "source": [
    "# run this cell to visualize the ECG\n",
    "fs = 360\n",
    "ecg = electrocardiogram()[2000:5600]\n",
    "\n",
    "fig, ax = plt.subplots(figsize=(8, 3))\n",
    "ax.plot(ecg)\n",
    "ax.set_xlabel(\"samples\")\n",
    "ax.set_ylabel(\"ECG\")\n",
    "fig.tight_layout()"
   ]
  },
  {
   "cell_type": "markdown",
   "id": "84f9f71c-1371-449e-a950-78fb0fac585e",
   "metadata": {},
   "source": [
    "##### 2.1 Create a Butterworth filter ``sos`` to remove the baseline and high-frequency artifacts using the [scipy.signal.butter](https://docs.scipy.org/doc/scipy/reference/generated/scipy.signal.butter.html) implementation with the following parameters:\n",
    "* Order of the filter: 2\n",
    "* Critical frequencies: \n",
    "    * baseline artifacts: 0.5 Hz\n",
    "    * high-frequency artifacts: 50 Hz\n",
    "* Filter type: bandpass\n",
    "* Sampling Frequency: 360 Hz, ECG Sampling Frequency\n",
    "* Output type: sos\n",
    "\n",
    "Use [scipy.signal.sosfiltfilt](https://docs.scipy.org/doc/scipy/reference/generated/scipy.signal.sosfiltfilt.html) for applying the filter to ``ecg`` and save the result in the variable ``ecg_filtered``:\n",
    "\n",
    "**Hint**: Have a look how ``scipy.signal`` is imported."
   ]
  },
  {
   "cell_type": "code",
   "execution_count": null,
   "id": "5bf2332d-037e-4e0a-82d6-7ddf4038d067",
   "metadata": {
    "deletable": false,
    "nbgrader": {
     "cell_type": "code",
     "checksum": "20e73b89b67980b6c60c42d127289a0f",
     "grade": false,
     "grade_id": "filter",
     "locked": false,
     "schema_version": 3,
     "solution": true,
     "task": false
    },
    "tags": []
   },
   "outputs": [],
   "source": [
    "# YOUR CODE HERE\n",
    "raise NotImplementedError()"
   ]
  },
  {
   "cell_type": "code",
   "execution_count": null,
   "id": "d47af167-a57f-431b-bad7-64e49bf85d82",
   "metadata": {
    "deletable": false,
    "editable": false,
    "nbgrader": {
     "cell_type": "code",
     "checksum": "e3728b24d85f87a477da6cfe21a4a010",
     "grade": true,
     "grade_id": "filter_test",
     "locked": true,
     "points": 1,
     "schema_version": 3,
     "solution": false,
     "task": false
    },
    "tags": []
   },
   "outputs": [],
   "source": [
    "# run tests to check your implementation\n",
    "assert np.min(ecg_filtered) >= -1 and np.max(ecg_filtered) <= 1.8, \"Check if you applied the filter to the ecg signal\""
   ]
  },
  {
   "cell_type": "code",
   "execution_count": null,
   "id": "32ed5fbf-273e-4cb9-824f-6179c6d14473",
   "metadata": {},
   "outputs": [],
   "source": [
    "# run this cell to visualize the filtered ecg\n",
    "fig, ax = plt.subplots(figsize=(8, 3))\n",
    "ax.plot(ecg_filtered)\n",
    "ax.set_xlabel(\"samples\")\n",
    "ax.set_ylabel(\"ECG\")\n",
    "fig.tight_layout()"
   ]
  },
  {
   "cell_type": "markdown",
   "id": "933467cd-b743-4378-8afe-32e57019be02",
   "metadata": {},
   "source": [
    "##### 2.2 One parameter that is derived from ECGs in almost every analysis pipeline is the heart rate which is calculated based on the differences between the R peaks (highest ECG peaks):\n",
    "* Use [scipy.signal.find_peaks](https://docs.scipy.org/doc/scipy/reference/generated/scipy.signal.find_peaks.html) to identify all the R peaks in ``ecg_filtered``.\n",
    "* Play around with the parameters of the function such that only the R peaks and not all of the peaks in the signal are identified. Save your results as numpy array in the variable ``r_peaks``."
   ]
  },
  {
   "cell_type": "code",
   "execution_count": null,
   "id": "f5511a41-9a99-422f-a793-ed060c7e7a0c",
   "metadata": {
    "deletable": false,
    "nbgrader": {
     "cell_type": "code",
     "checksum": "04589fbff57232cfa48923e541607502",
     "grade": false,
     "grade_id": "find_r_peaks",
     "locked": false,
     "schema_version": 3,
     "solution": true,
     "task": false
    },
    "tags": []
   },
   "outputs": [],
   "source": [
    "# YOUR CODE HERE\n",
    "raise NotImplementedError()"
   ]
  },
  {
   "cell_type": "code",
   "execution_count": null,
   "id": "8cfce761-d663-40fd-9032-da593bcf71b4",
   "metadata": {
    "deletable": false,
    "editable": false,
    "nbgrader": {
     "cell_type": "code",
     "checksum": "7b7529ce2b77311ae584559a27771594",
     "grade": true,
     "grade_id": "find_r_peaks_test",
     "locked": true,
     "points": 1,
     "schema_version": 3,
     "solution": false,
     "task": false
    },
    "tags": []
   },
   "outputs": [],
   "source": [
    "# run tests to check your implementation\n",
    "assert type(r_peaks) == np.ndarray, \"Check if r_peaks is of type tuple, if yes index the first element to get only the positions of the R peaks\"\n",
    "assert len(r_peaks) == 21, \"Check if you find all the r peaks of the ecg\""
   ]
  },
  {
   "cell_type": "code",
   "execution_count": null,
   "id": "495261f7-b9a5-4443-95e1-46448d719218",
   "metadata": {},
   "outputs": [],
   "source": [
    "# run this cell to visualize the filtered ECG with all identified r_peaks\n",
    "fig, ax = plt.subplots(figsize=(8, 3))\n",
    "ax.plot(ecg_filtered)\n",
    "ax.scatter(r_peaks, ecg_filtered[r_peaks], color='red')\n",
    "ax.set_xlabel(\"samples\")\n",
    "ax.set_ylabel(\"ECG\")\n",
    "fig.tight_layout()"
   ]
  },
  {
   "cell_type": "markdown",
   "id": "1afdb2b4-a246-4caf-8724-42921d8b9915",
   "metadata": {},
   "source": [
    "##### 2.3 To verify results, it is often helpful to visualize a signal over time in seconds and not samples. Use the [numpy.linspace](https://numpy.org/doc/stable/reference/generated/numpy.linspace.html) function to generate a vector called ``t`` that corresponds to the time vector of the ECG:\n",
    "\n",
    "**Hint**: A sampling frequency of 360 Hz means that 360 samples are recorded in 1 second. Our signal is 10 seconds long and therefore consists of 3600 samples."
   ]
  },
  {
   "cell_type": "code",
   "execution_count": null,
   "id": "2933958a-b83e-4258-abdc-2ac018213823",
   "metadata": {
    "deletable": false,
    "nbgrader": {
     "cell_type": "code",
     "checksum": "aebd2eaaa2cadae433c4af3f50674830",
     "grade": false,
     "grade_id": "convert_samples",
     "locked": false,
     "schema_version": 3,
     "solution": true,
     "task": false
    },
    "tags": []
   },
   "outputs": [],
   "source": [
    "# YOUR CODE HERE\n",
    "raise NotImplementedError()"
   ]
  },
  {
   "cell_type": "code",
   "execution_count": null,
   "id": "95f83da6-10ee-4bad-a919-ff670765519d",
   "metadata": {
    "deletable": false,
    "editable": false,
    "nbgrader": {
     "cell_type": "code",
     "checksum": "e7e564c03e1756399f4b2c52193a4fa1",
     "grade": true,
     "grade_id": "convert_samples_test",
     "locked": true,
     "points": 1,
     "schema_version": 3,
     "solution": false,
     "task": false
    },
    "tags": []
   },
   "outputs": [],
   "source": [
    "# run tests to check your implementation\n",
    "assert len(t) == 3600, \"Your time signal must have the length of the ecg signal\"\n",
    "assert np.min(t) == 0 and np.max(t) <= 10, \"Ensure that you set the parameters of linspace correctly\""
   ]
  },
  {
   "cell_type": "code",
   "execution_count": null,
   "id": "46f70d9a-069f-4af0-b8c9-ce1e7ef34318",
   "metadata": {},
   "outputs": [],
   "source": [
    "# run this cell to visualize the filtered ECG with all identified r_peaks over time\n",
    "fig, ax = plt.subplots(figsize=(8, 3))\n",
    "ax.plot(t, ecg_filtered)\n",
    "ax.scatter(r_peaks/fs, ecg_filtered[r_peaks], color='red')\n",
    "ax.set_xlabel(\"time [s]\")\n",
    "ax.set_ylabel(\"ECG\")\n",
    "fig.tight_layout()"
   ]
  },
  {
   "cell_type": "markdown",
   "id": "e1106d3a-1bc2-4c0d-b17e-e598f0075330",
   "metadata": {},
   "source": [
    "##### 2.4 Create a function called ``calc_hr_bpm`` that calculates the heartrate of an ECG in bpm and takes the parameter ``r_peaks`` and ``fs``\n",
    "* ``r_peaks``: numpy array with R peak positions in samples\n",
    "* ``fs``: Sampling frequency of the ECG\n",
    "* You can use [numpy.diff](https://numpy.org/doc/stable/reference/generated/numpy.diff.html) and [numpy.mean](https://numpy.org/doc/stable/reference/generated/numpy.mean.html) in your implementation\n",
    "\n",
    "**Hint**: 1 Hz corresponds to 60 bpm."
   ]
  },
  {
   "cell_type": "code",
   "execution_count": null,
   "id": "96e08184-3fba-432e-8e4d-62860e694edb",
   "metadata": {
    "deletable": false,
    "nbgrader": {
     "cell_type": "code",
     "checksum": "de18e49ca2d1b6ab3de0d08f14baecf5",
     "grade": false,
     "grade_id": "calc_hr",
     "locked": false,
     "schema_version": 3,
     "solution": true,
     "task": false
    },
    "tags": []
   },
   "outputs": [],
   "source": [
    "# YOUR CODE HERE\n",
    "raise NotImplementedError()"
   ]
  },
  {
   "cell_type": "code",
   "execution_count": null,
   "id": "b10e19a4-9351-4e32-8a84-0e2cd3b1b97b",
   "metadata": {
    "deletable": false,
    "editable": false,
    "nbgrader": {
     "cell_type": "code",
     "checksum": "2c0641a03d8e55ff775d0eb5b0d36e5c",
     "grade": true,
     "grade_id": "calc_hr_test",
     "locked": true,
     "points": 1,
     "schema_version": 3,
     "solution": false,
     "task": false
    },
    "tags": []
   },
   "outputs": [],
   "source": [
    "# run test to check your implementation\n",
    "assert calc_hr_bpm(np.array([300, 600, 900]), 300) == 60, \"Ensure that you performed all neccessary steps for the heart rate calculation, diff, mean, conversion to seconds, and conversion to minutes\""
   ]
  },
  {
   "cell_type": "markdown",
   "id": "5593c317-1091-4a3a-91bd-20d7a5575759",
   "metadata": {},
   "source": [
    "##### 2.5 Calculate the heart rate of the ECG in bpm using ``calc_hr_bpm`` and ``r_peaks`` and save it in the variable ``hr``. Can you verify this result with the plot of the ECG over time?"
   ]
  },
  {
   "cell_type": "code",
   "execution_count": null,
   "id": "f9d1d42d-07aa-4d4b-9e4e-6cbbf357059c",
   "metadata": {
    "deletable": false,
    "nbgrader": {
     "cell_type": "code",
     "checksum": "735418c5f2b468cf8b1693759d5eecf2",
     "grade": false,
     "grade_id": "heart_rate",
     "locked": false,
     "schema_version": 3,
     "solution": true,
     "task": false
    },
    "tags": []
   },
   "outputs": [],
   "source": [
    "# YOUR CODE HERE\n",
    "raise NotImplementedError()\n",
    "\n",
    "print(hr)"
   ]
  },
  {
   "cell_type": "code",
   "execution_count": null,
   "id": "792bb414-6e63-4ff5-b779-b5393c49ed0a",
   "metadata": {
    "tags": []
   },
   "outputs": [],
   "source": []
  }
 ],
 "metadata": {
  "kernelspec": {
   "display_name": "ads_exercise",
   "language": "python",
   "name": "ads_exercise"
  },
  "language_info": {
   "codemirror_mode": {
    "name": "ipython",
    "version": 3
   },
   "file_extension": ".py",
   "mimetype": "text/x-python",
   "name": "python",
   "nbconvert_exporter": "python",
   "pygments_lexer": "ipython3",
   "version": "3.10.14"
  }
 },
 "nbformat": 4,
 "nbformat_minor": 5
}
